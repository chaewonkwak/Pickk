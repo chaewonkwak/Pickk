{
 "cells": [
  {
   "cell_type": "code",
   "execution_count": 1,
   "id": "34b6798f",
   "metadata": {},
   "outputs": [],
   "source": [
    "import pandas as pd\n",
    "import numpy as np\n",
    "import sklearn\n",
    "\n",
    "from sklearn.feature_extraction.text import CountVectorizer\n",
    "from sklearn.feature_extraction.text import TfidfVectorizer\n",
    "from sklearn.metrics.pairwise import cosine_similarity"
   ]
  },
  {
   "cell_type": "code",
   "execution_count": 2,
   "id": "3df3e80b",
   "metadata": {},
   "outputs": [
    {
     "name": "stdout",
     "output_type": "stream",
     "text": [
      "<class 'pandas.core.frame.DataFrame'>\n",
      "Int64Index: 376 entries, 0 to 2\n",
      "Data columns (total 15 columns):\n",
      " #   Column     Non-Null Count  Dtype  \n",
      "---  ------     --------------  -----  \n",
      " 0   menu       376 non-null    object \n",
      " 1   image      376 non-null    object \n",
      " 2   desc       376 non-null    object \n",
      " 3   e          376 non-null    int64  \n",
      " 4   f          376 non-null    object \n",
      " 5   g          376 non-null    float64\n",
      " 6   h          376 non-null    int64  \n",
      " 7   i          376 non-null    float64\n",
      " 8   tem        376 non-null    int64  \n",
      " 9   milk       376 non-null    float64\n",
      " 10  caffein    376 non-null    int64  \n",
      " 11  coffee     376 non-null    int64  \n",
      " 12  flavor     376 non-null    int64  \n",
      " 13  sparkling  376 non-null    int64  \n",
      " 14  p          376 non-null    int64  \n",
      "dtypes: float64(3), int64(8), object(4)\n",
      "memory usage: 47.0+ KB\n"
     ]
    }
   ],
   "source": [
    "menuData = pd.read_excel('./menuData.xlsx', names=['menu', 'image', 'desc', 'e', 'f', 'g', 'h', 'i', 'tem', 'milk', 'caffein', 'coffee', 'flavor', 'sparkling', 'p'])\n",
    "menuData.columns\n",
    "\n",
    "menuData = menuData.fillna(0)\n",
    "menuData.info()"
   ]
  },
  {
   "cell_type": "code",
   "execution_count": 11,
   "id": "5b9d53fc",
   "metadata": {},
   "outputs": [
    {
     "data": {
      "text/plain": [
       "array([[0.]])"
      ]
     },
     "execution_count": 11,
     "metadata": {},
     "output_type": "execute_result"
    }
   ],
   "source": [
    "np.arra"
   ]
  },
  {
   "cell_type": "code",
   "execution_count": 29,
   "id": "08118402",
   "metadata": {},
   "outputs": [
    {
     "data": {
      "text/plain": [
       "(array([156,  39, 369]), array([0.91287093, 0.91287093, 0.8660254 ]))"
      ]
     },
     "execution_count": 29,
     "metadata": {},
     "output_type": "execute_result"
    }
   ],
   "source": [
    "def get_recommend_beverage_list(menuData, answer, top=3):\n",
    "    ## answer은 int형 : menu의 위치\n",
    "    \n",
    "    usedInfo = menuData[['tem', 'milk', 'caffein', 'coffee', 'flavor', 'sparkling']]\n",
    "    recommends = []\n",
    "    usedInfoNp = usedInfo.to_numpy()\n",
    "    \n",
    "    answer = list(map(lambda x: int(x), answer))\n",
    "    answer = np.array(answer).reshape(1, -1)\n",
    "\n",
    "    simVec = cosine_similarity(answer, usedInfoNp)\n",
    "    \n",
    "    sortedIndex = np.argsort(simVec)[0][::-1]\n",
    "    \n",
    "    # top n개 선택하기!\n",
    "\n",
    "    recommends = sortedIndex[:top]\n",
    "    scores = simVec[0, recommends]\n",
    "    \n",
    "    return recommends, scores\n",
    "\n",
    "get_recommend_beverage_list(menuData, '111111')"
   ]
  },
  {
   "cell_type": "code",
   "execution_count": 33,
   "id": "f5c9df44",
   "metadata": {},
   "outputs": [
    {
     "name": "stdout",
     "output_type": "stream",
     "text": [
      "Answer: 101011\n",
      "Recommends\n",
      "menu: 블랙 티 레모네이드 피지오 score: 1.00\n",
      "menu: 체리콕콕(ICED) score: 1.00\n",
      "menu: 쿨 라임 피지오 score: 1.00\n"
     ]
    }
   ],
   "source": [
    "## Test\n",
    "def test(menuData, answer, top=3):\n",
    "    print(f\"Answer: {answer}\")\n",
    "    \n",
    "    recommends, scores = get_recommend_beverage_list(menuData, answer, top)\n",
    "    print(\"Recommends\")\n",
    "    for recommend, score in zip(recommends, scores):\n",
    "        print(f\"menu: {menuData.iloc[recommend]['menu']} score: {score:.2f}\")\n",
    "\n",
    "test(menuData, '101011')\n"
   ]
  }
 ],
 "metadata": {
  "kernelspec": {
   "display_name": "Python 3 (ipykernel)",
   "language": "python",
   "name": "python3"
  },
  "language_info": {
   "codemirror_mode": {
    "name": "ipython",
    "version": 3
   },
   "file_extension": ".py",
   "mimetype": "text/x-python",
   "name": "python",
   "nbconvert_exporter": "python",
   "pygments_lexer": "ipython3",
   "version": "3.9.13"
  },
  "vscode": {
   "interpreter": {
    "hash": "89fbfe5c6536e7a994d5354a6654c5e12151a0c0d5383310530fa5743fb366f5"
   }
  }
 },
 "nbformat": 4,
 "nbformat_minor": 5
}
